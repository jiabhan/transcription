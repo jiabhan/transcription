{
 "cells": [
  {
   "cell_type": "code",
   "id": "fefd8ee0-ec90-44fb-8b15-f2e9215d4958",
   "metadata": {
    "ExecuteTime": {
     "end_time": "2025-01-25T23:15:51.311220Z",
     "start_time": "2025-01-25T23:15:51.309666Z"
    }
   },
   "source": [
    "import os\n",
    "import datetime"
   ],
   "outputs": [],
   "execution_count": 1
  },
  {
   "cell_type": "code",
   "id": "20e09b26-ec9c-4ed0-ae33-cf5e12cc1fc2",
   "metadata": {
    "ExecuteTime": {
     "end_time": "2025-01-25T23:15:53.167763Z",
     "start_time": "2025-01-25T23:15:52.985157Z"
    }
   },
   "source": [
    "from faster_whisper import WhisperModel"
   ],
   "outputs": [
    {
     "name": "stderr",
     "output_type": "stream",
     "text": [
      "/home/snpara/micromamba/envs/faster-whisper/lib/python3.12/site-packages/tqdm/auto.py:21: TqdmWarning: IProgress not found. Please update jupyter and ipywidgets. See https://ipywidgets.readthedocs.io/en/stable/user_install.html\n",
      "  from .autonotebook import tqdm as notebook_tqdm\n"
     ]
    }
   ],
   "execution_count": 2
  },
  {
   "cell_type": "code",
   "id": "6b4269d0-801d-4549-bc8b-a57ba0d324ef",
   "metadata": {
    "ExecuteTime": {
     "end_time": "2025-01-25T23:15:54.084732Z",
     "start_time": "2025-01-25T23:15:54.082905Z"
    }
   },
   "source": [
    "cwd = os.getcwd()"
   ],
   "outputs": [],
   "execution_count": 3
  },
  {
   "cell_type": "code",
   "id": "a07a1085-907c-4f3a-808b-580b2a15033e",
   "metadata": {
    "ExecuteTime": {
     "end_time": "2025-01-25T23:15:54.712737Z",
     "start_time": "2025-01-25T23:15:54.709029Z"
    }
   },
   "source": [
    "cwd"
   ],
   "outputs": [
    {
     "data": {
      "text/plain": [
       "'/home/snpara/Source/Utils/Transcription'"
      ]
     },
     "execution_count": 4,
     "metadata": {},
     "output_type": "execute_result"
    }
   ],
   "execution_count": 4
  },
  {
   "cell_type": "code",
   "id": "e7a6e173-031b-4fa9-8b0b-5a93ac78e3c3",
   "metadata": {
    "ExecuteTime": {
     "end_time": "2025-01-25T23:16:03.793847Z",
     "start_time": "2025-01-25T23:16:02.809015Z"
    }
   },
   "source": [
    "# Then load using local files\n",
    "model = WhisperModel(\"large-v3\", device=\"cuda\", download_root=\".\", local_files_only=True)"
   ],
   "outputs": [],
   "execution_count": 5
  },
  {
   "cell_type": "code",
   "id": "10a7cf13-9bcd-4f6e-ab38-049f753c001a",
   "metadata": {
    "ExecuteTime": {
     "end_time": "2025-01-23T23:59:14.917196Z",
     "start_time": "2025-01-23T23:59:14.915082Z"
    }
   },
   "source": [
    "def format_time(seconds):\n",
    "    time = str(datetime.timedelta(seconds=seconds))\n",
    "    if '.' in time:\n",
    "        time = time[:-3]  # Remove microseconds\n",
    "    else:\n",
    "        time += '.000'  # Add milliseconds if not present\n",
    "    return time.replace('.', ',').zfill(12)  # Ensure 12 characters with leading zeros\n"
   ],
   "outputs": [],
   "execution_count": 18
  },
  {
   "cell_type": "markdown",
   "id": "15fdb45b-ebf9-4d95-9d09-b1bff1158253",
   "metadata": {},
   "source": [
    "sudo apt-get update\n",
    "sudo add-apt-repository universe\n",
    "sudo apt-get update\n",
    "sudo apt-get install ffmpeg"
   ]
  },
  {
   "cell_type": "code",
   "execution_count": 8,
   "id": "e282a3bb-88b7-478d-b501-27acd3ab9f77",
   "metadata": {},
   "outputs": [],
   "source": [
    "def extract_audio(video_path, audio_path):\n",
    "    command = [\n",
    "        \"ffmpeg\",\n",
    "        \"-i\", video_path,\n",
    "        \"-vn\",  # Disable video\n",
    "        \"-acodec\", \"pcm_s16le\",  # Audio codec\n",
    "        \"-ar\", \"16000\",  # Audio sampling rate\n",
    "        \"-ac\", \"1\",  # Mono audio\n",
    "        \"-y\",  # Overwrite output file if it exists\n",
    "        audio_path\n",
    "    ]\n",
    "    subprocess.run(command, stdout=subprocess.DEVNULL, stderr=subprocess.DEVNULL)\n"
   ]
  },
  {
   "cell_type": "code",
   "execution_count": 9,
   "id": "b3641f6a-2aa5-468e-b0b9-b788dc6ee221",
   "metadata": {},
   "outputs": [],
   "source": [
    "def convert_to_srt(video_path, output_path):\n",
    "\n",
    "    # Extract audio from video\n",
    "    audio_path = video_path.replace('.mp4', '.wav')\n",
    "    extract_audio(video_path, audio_path)\n",
    "\n",
    "    # Transcribe the audio\n",
    "    segments, _ = model.transcribe(audio_path)\n",
    "\n",
    "    # Convert segments to SRT format\n",
    "    srt_content = \"\"\n",
    "    for i, segment in enumerate(segments, start=1):\n",
    "        start = format_time(segment.start)\n",
    "        end = format_time(segment.end)\n",
    "        text = segment.text.strip()\n",
    "        srt_content += f\"{i}\\n{start} --> {end}\\n{text}\\n\\n\"\n",
    "\n",
    "    # Write SRT file\n",
    "    with open(output_path, \"w\", encoding=\"utf-8\") as srt_file:\n",
    "        srt_file.write(srt_content)\n",
    "\n",
    "    # Clean up the temporary audio file\n",
    "    os.remove(audio_path)"
   ]
  },
  {
   "cell_type": "code",
   "execution_count": null,
   "id": "446c52fe-22c0-4c3b-956b-13da5157102f",
   "metadata": {},
   "outputs": [
    {
     "name": "stdout",
     "output_type": "stream",
     "text": [
      "Converting dw-07-recording-part-1.mp4...\n",
      "Created dw-07-recording-part-1.srt\n",
      "Converting dw-07-recording-part-2.mp4...\n",
      "Created dw-07-recording-part-2.srt\n",
      "Converting dw-08-recording-part-1.mp4...\n",
      "Created dw-08-recording-part-1.srt\n",
      "Converting dw9_2.mp4...\n",
      "Created dw9_2.srt\n",
      "Converting dw-08-recording-part-2.mp4...\n"
     ]
    }
   ],
   "source": [
    "# Get all MP4 files in the current directory\n",
    "mp4_files = [f for f in os.listdir() if f.endswith('.mp4')]\n",
    "\n",
    "for mp4_file in mp4_files:\n",
    "    print(f\"Converting {mp4_file}...\")\n",
    "    srt_file = os.path.splitext(mp4_file)[0] + \".srt\"\n",
    "    convert_to_srt(mp4_file, srt_file)\n",
    "    print(f\"Created {srt_file}\")\n",
    "\n",
    "print(\"All conversions completed.\")"
   ]
  },
  {
   "cell_type": "code",
   "execution_count": null,
   "id": "d732629b-3df9-407c-b37e-71101e2b0726",
   "metadata": {},
   "outputs": [],
   "source": []
  }
 ],
 "metadata": {
  "kernelspec": {
   "display_name": "Python 3 (ipykernel)",
   "language": "python",
   "name": "python3"
  },
  "language_info": {
   "codemirror_mode": {
    "name": "ipython",
    "version": 3
   },
   "file_extension": ".py",
   "mimetype": "text/x-python",
   "name": "python",
   "nbconvert_exporter": "python",
   "pygments_lexer": "ipython3",
   "version": "3.12.3"
  }
 },
 "nbformat": 4,
 "nbformat_minor": 5
}
